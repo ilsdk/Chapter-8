{
 "cells": [
  {
   "cell_type": "code",
   "execution_count": 3,
   "id": "11fe1e8a-9d65-474a-87f8-1ba28b95db04",
   "metadata": {},
   "outputs": [],
   "source": [
    "import numpy as np\n",
    "import pandas as pd\n",
    "import matplotlib.pyplot as plt\n",
    "import seaborn as sns"
   ]
  },
  {
   "cell_type": "code",
   "execution_count": 4,
   "id": "5e1e21cc-c456-4518-9f63-b153f4709baf",
   "metadata": {},
   "outputs": [
    {
     "ename": "NameError",
     "evalue": "name 'pm2' is not defined",
     "output_type": "error",
     "traceback": [
      "\u001b[0;31m---------------------------------------------------------------------------\u001b[0m",
      "\u001b[0;31mNameError\u001b[0m                                 Traceback (most recent call last)",
      "Cell \u001b[0;32mIn[4], line 5\u001b[0m\n\u001b[1;32m      1\u001b[0m \u001b[38;5;66;03m# pmk represent the proportion of training observations\u001b[39;00m\n\u001b[1;32m      2\u001b[0m \u001b[38;5;66;03m# in the mth region that are from the kth class\u001b[39;00m\n\u001b[1;32m      3\u001b[0m \u001b[38;5;66;03m# Here we consider two classes, K=2 for a given region m \u001b[39;00m\n\u001b[1;32m      4\u001b[0m pm1 \u001b[38;5;241m=\u001b[39m np\u001b[38;5;241m.\u001b[39marange(\u001b[38;5;241m0.01\u001b[39m, \u001b[38;5;241m1\u001b[39m, \u001b[38;5;241m0.01\u001b[39m)\n\u001b[0;32m----> 5\u001b[0m gini \u001b[38;5;241m=\u001b[39m (pm1 \u001b[38;5;241m*\u001b[39m (\u001b[38;5;241m1\u001b[39m \u001b[38;5;241m-\u001b[39m pm1)) \u001b[38;5;241m+\u001b[39m (\u001b[43mpm2\u001b[49m \u001b[38;5;241m*\u001b[39m (\u001b[38;5;241m1\u001b[39m \u001b[38;5;241m-\u001b[39m pm2))\n\u001b[1;32m      6\u001b[0m pm2 \u001b[38;5;241m=\u001b[39m np\u001b[38;5;241m.\u001b[39marange(\u001b[38;5;241m0.02\u001b[39m, \u001b[38;5;241m1\u001b[39m, \u001b[38;5;241m0.02\u001b[39m)\n\u001b[1;32m      7\u001b[0m \u001b[38;5;66;03m# Classification error is the proportion of observations assigned to the wrong class\u001b[39;00m\n",
      "\u001b[0;31mNameError\u001b[0m: name 'pm2' is not defined"
     ]
    }
   ],
   "source": [
    "# pmk represent the proportion of training observations\n",
    "# in the mth region that are from the kth class\n",
    "# Here we consider two classes, K=2 for a given region m \n",
    "pm1 = np.arange(0.01, 1, 0.01)\n",
    "gini = (pm1 * (1 - pm1)) + (pm2 * (1 - pm2))\n",
    "pm2 = np.arange(0.02, 1, 0.02)\n",
    "# Classification error is the proportion of observations assigned to the wrong class\n",
    "err=[]\n",
    "for p in pm1:\n",
    "    if 0.5 <= p:\n",
    "        err += [1 - p]\n",
    "    if p < 0.5:\n",
    "        err += [p]\n",
    "\n",
    "# Entropy\n",
    "entropy = -((pm1 * np.log(pm1)) + (pm2 * np.log(pm2)))\n",
    "\n",
    "\n",
    "\n",
    "# Plot against pm1\n",
    "df = pd.DataFrame(np.stack([pm1, gini, err, entropy], axis=1), \n",
    "                  columns=['pm1', 'gini', 'error', 'entropy']).set_index('pm1')\n",
    "plt.figure(figsize=(10, 7))\n",
    "sns.lineplot(data=df);"
   ]
  },
  {
   "cell_type": "code",
   "execution_count": 11,
   "id": "6c35c487-062b-417f-8eea-a407cabcbe98",
   "metadata": {},
   "outputs": [
    {
     "name": "stdout",
     "output_type": "stream",
     "text": [
      "Is red (by Majority): True, votes_red=6\n",
      "Is red (by Average) : False, avg=0.45\n"
     ]
    }
   ],
   "source": [
    "x_isred_boot = np.array([0.1,0.15,0.2,0.2,0.55,0.6,0.6,0.65,0.7, 0.75])\n",
    "\n",
    "def majority_clf(votes):\n",
    "    pro_votes = (0.5 < votes).sum()\n",
    "    majority_is_pro = (len(votes)/2) < pro_votes\n",
    "    return majority_is_pro, pro_votes\n",
    "\n",
    "def avg_clf(votes):\n",
    "    avg = np.mean(votes)\n",
    "    return (0.5 < avg, avg)\n",
    "\n",
    "print('Is red (by Majority): {}, votes_red={}'.format(*majority_clf(x_isred_boot)))\n",
    "print('Is red (by Average) : {}, avg={}'.format(*avg_clf(x_isred_boot)))"
   ]
  }
 ],
 "metadata": {
  "kernelspec": {
   "display_name": "anaconda-ai-2024.04-py310",
   "language": "python",
   "name": "conda-env-anaconda-ai-2024.04-py310-py"
  },
  "language_info": {
   "codemirror_mode": {
    "name": "ipython",
    "version": 3
   },
   "file_extension": ".py",
   "mimetype": "text/x-python",
   "name": "python",
   "nbconvert_exporter": "python",
   "pygments_lexer": "ipython3",
   "version": "3.10.13"
  }
 },
 "nbformat": 4,
 "nbformat_minor": 5
}
